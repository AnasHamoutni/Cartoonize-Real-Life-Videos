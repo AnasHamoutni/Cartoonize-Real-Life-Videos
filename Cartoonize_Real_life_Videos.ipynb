{
  "nbformat": 4,
  "nbformat_minor": 0,
  "metadata": {
    "colab": {
      "name": "Cartoonize Real life Videos",
      "provenance": [],
      "collapsed_sections": [],
      "mount_file_id": "1MKz41er0SjODV2p5TUT0OEOmilbg4Kn6",
      "authorship_tag": "ABX9TyMZ48Jtl+VMkzKTdd3gAtCM",
      "include_colab_link": true
    },
    "kernelspec": {
      "name": "python3",
      "display_name": "Python 3"
    },
    "accelerator": "TPU"
  },
  "cells": [
    {
      "cell_type": "markdown",
      "metadata": {
        "id": "view-in-github",
        "colab_type": "text"
      },
      "source": [
        "<a href=\"https://colab.research.google.com/github/AnasHamoutni/Cartoonize-Real-Life-Videos/blob/main/Cartoonize_Real_life_Videos.ipynb\" target=\"_parent\"><img src=\"https://colab.research.google.com/assets/colab-badge.svg\" alt=\"Open In Colab\"/></a>"
      ]
    },
    {
      "cell_type": "markdown",
      "metadata": {
        "id": "NIBwk1lB62yS"
      },
      "source": [
        "# **Cartoonize Real Life Videos**\r\n",
        "\r\n",
        "Hi, my name is **ANAS HAMOUTNI** and I am a Data Scientist from **Morocco**.\r\n",
        "This mini-Colab-Project is about Cartoonizing Real Life Videos using \"White-box Cartoon Representations\".\r\n",
        "\r\n",
        "This Project's Github Link: https://github.com/AnasHamoutni/Cartoonize-Real-Life-Videos\r\n",
        "\r\n",
        "Github Original Link: https://github.com/SystemErrorWang/White-box-Cartoonization"
      ]
    },
    {
      "cell_type": "code",
      "metadata": {
        "colab": {
          "base_uri": "https://localhost:8080/"
        },
        "id": "Bnlo66lRnrvH",
        "outputId": "d2ed2e5b-b417-4f54-d7c7-4b87b0a32218"
      },
      "source": [
        "from google.colab import drive\n",
        "drive.mount('/content/drive')"
      ],
      "execution_count": null,
      "outputs": [
        {
          "output_type": "stream",
          "text": [
            "Drive already mounted at /content/drive; to attempt to forcibly remount, call drive.mount(\"/content/drive\", force_remount=True).\n"
          ],
          "name": "stdout"
        }
      ]
    },
    {
      "cell_type": "code",
      "metadata": {
        "id": "LEOGSgzU1ULD"
      },
      "source": [
        "#@title ##**Install all the necessary libraries** { display-mode: \"form\" }\r\n",
        "\r\n",
        "!pip install youtube_dl\r\n",
        "!pip install ffmpeg\r\n",
        "!pip install ffmpeg-python\r\n",
        "!pip install torchvision==0.5\r\n",
        "!pip install torch==1.4\r\n",
        "\r\n",
        "from IPython.display import clear_output\r\n",
        "from google.colab import files\r\n",
        "import imageio\r\n",
        "import youtube_dl\r\n",
        "import cv2\r\n",
        "import os\r\n",
        "import torch\r\n",
        "import fastai\r\n",
        "import ffmpeg\r\n",
        "import os.path as osp\r\n",
        "import logging\r\n",
        "import shutil\r\n",
        "import re\r\n",
        "import gc\r\n",
        "from PIL import Image\r\n",
        "from tqdm import tqdm\r\n",
        "from os import path\r\n",
        "import numpy as np\r\n",
        "import moviepy.editor as mpy\r\n",
        "from moviepy.video.io.ffmpeg_writer import FFMPEG_VideoWriter\r\n",
        "from pathlib import Path\r\n",
        "import sys\r\n",
        "import glob\r\n",
        "from IPython import display as ipythondisplay\r\n",
        "from IPython.display import Image as ipythonimage\r\n",
        "torch.backends.cudnn.benchmark=True\r\n",
        "%matplotlib inline\r\n",
        "clear_output()"
      ],
      "execution_count": null,
      "outputs": []
    },
    {
      "cell_type": "code",
      "metadata": {
        "id": "n39szf5Xz731"
      },
      "source": [
        "#@title ##**Upload video** { display-mode: \"form\" }\r\n",
        "#@markdown *Enter a link to the video below (for example, YouTube or Twitter), or leave the **source_url** field blank (in this case, you will be asked to upload the video from your computer).*\r\n",
        "source_url = '' #@param {type:\"string\"}\r\n",
        "\r\n",
        "if source_url == '':\r\n",
        "  uploaded = files.upload()\r\n",
        "  for fn in uploaded.keys():\r\n",
        "    print('User uploaded file \"{name}\" with length {length} bytes'.format(\r\n",
        "        name=fn, length=len(uploaded[fn])))\r\n",
        "  os.rename(fn, fn.replace(\" \", \"\"))\r\n",
        "  fn = fn.replace(\" \", \"\")\r\n",
        "  file_name = \"downloaded_video.\" + fn.split(\".\")[-1]\r\n",
        "  !mv -f $fn $file_name\r\n",
        "\r\n",
        "else:\r\n",
        "  try:\r\n",
        "    ydl_opts = {\r\n",
        "        'format': 'bestvideo[ext=mp4]+bestaudio[ext=m4a]/mp4',\r\n",
        "        'outtmpl': 'downloaded_video.mp4',\r\n",
        "        }\r\n",
        "    with youtube_dl.YoutubeDL(ydl_opts) as ydl:\r\n",
        "      ydl.download([source_url])\r\n",
        "    file_name = 'downloaded_video.mp4'\r\n",
        "  \r\n",
        "  except BaseException:\r\n",
        "    !wget $source_url\r\n",
        "    fn = source_url.split('/')[-1]\r\n",
        "    os.rename(fn, fn.replace(\" \", \"\"))\r\n",
        "    fn = fn.replace(\" \", \"\")\r\n",
        "    file_name = \"downloaded_video.\" + fn.split(\".\")[-1]\r\n",
        "    !mv -f $fn $file_name\r\n",
        "\r\n",
        "!cp -r downloaded_video.mp4 video.mp4\r\n",
        "clear_output()\r\n",
        "fps_of_video = int(cv2.VideoCapture(file_name).get(cv2.CAP_PROP_FPS))\r\n",
        "frames_of_video = int(cv2.VideoCapture(file_name).get(cv2.CAP_PROP_FRAME_COUNT))\r\n",
        "#@markdown *Downloading videos lasting longer than one minute is not recommended. In addition, don't upload video that have a \"space\" or a \"dot\" in the title.*\r\n",
        "\r\n",
        "#@markdown *If there is an error during execution, then run this block again*"
      ],
      "execution_count": null,
      "outputs": []
    },
    {
      "cell_type": "code",
      "metadata": {
        "colab": {
          "base_uri": "https://localhost:8080/"
        },
        "id": "VWEdprGM0Aoz",
        "outputId": "62418cc2-56a8-4800-ca2a-c7983896a14a"
      },
      "source": [
        "#@title ##**Split the video into frames** { display-mode: \"form\" }\r\n",
        "%cd /content/\r\n",
        "\r\n",
        "frames_of_video = int(cv2.VideoCapture(\"Chefchaouen-StrollingAroundMorocco'sBlueCity.mp4\").get(cv2.CAP_PROP_FRAME_COUNT))\r\n",
        "fps_of_video = int(cv2.VideoCapture(\"Chefchaouen-StrollingAroundMorocco'sBlueCity.mp4\").get(cv2.CAP_PROP_FPS))\r\n",
        "vidcap = cv2.VideoCapture(\"Chefchaouen-StrollingAroundMorocco'sBlueCity.mp4\")\r\n",
        "success,image = vidcap.read()\r\n",
        "count = 0\r\n",
        "success = True\r\n",
        "while success:\r\n",
        "  cv2.imwrite(\"/content/drive/MyDrive/test/test_images/frame%09d.jpg\" % count, image)\r\n",
        "  success,image = vidcap.read()\r\n",
        "  count += 1"
      ],
      "execution_count": null,
      "outputs": [
        {
          "output_type": "stream",
          "text": [
            "/content\n"
          ],
          "name": "stdout"
        }
      ]
    },
    {
      "cell_type": "code",
      "metadata": {
        "id": "3iCp2kQjp6Ti"
      },
      "source": [
        "#@title ##**Cartoonize the Frames** { display-mode: \"form\" }\r\n",
        "\r\n",
        "%cd /content/drive/MyDrive/test\r\n",
        "import os\r\n",
        "import cv2\r\n",
        "import numpy as np\r\n",
        "import tensorflow as tf \r\n",
        "import network\r\n",
        "import guided_filter\r\n",
        "from tqdm import tqdm\r\n",
        "\r\n",
        "\r\n",
        "\r\n",
        "def resize_crop(image):\r\n",
        "    h, w, c = np.shape(image)\r\n",
        "    if min(h, w) > 720:\r\n",
        "        if h > w:\r\n",
        "            h, w = int(720*h/w), 720\r\n",
        "        else:\r\n",
        "            h, w = 720, int(720*w/h)\r\n",
        "    image = cv2.resize(image, (w, h),\r\n",
        "                       interpolation=cv2.INTER_AREA)\r\n",
        "    h, w = (h//8)*8, (w//8)*8\r\n",
        "    image = image[:h, :w, :]\r\n",
        "    return image\r\n",
        "    \r\n",
        "\r\n",
        "def cartoonize(load_folder, save_folder, model_path):\r\n",
        "    input_photo = tf.placeholder(tf.float32, [1, None, None, 3])\r\n",
        "    network_out = network.unet_generator(input_photo)\r\n",
        "    final_out = guided_filter.guided_filter(input_photo, network_out, r=1, eps=5e-3)\r\n",
        "\r\n",
        "    all_vars = tf.trainable_variables()\r\n",
        "    gene_vars = [var for var in all_vars if 'generator' in var.name]\r\n",
        "    saver = tf.train.Saver(var_list=gene_vars)\r\n",
        "    \r\n",
        "    config = tf.ConfigProto()\r\n",
        "    config.gpu_options.allow_growth = True\r\n",
        "    sess = tf.Session(config=config)\r\n",
        "\r\n",
        "    sess.run(tf.global_variables_initializer())\r\n",
        "    saver.restore(sess, tf.train.latest_checkpoint(model_path))\r\n",
        "    name_list = os.listdir(load_folder)\r\n",
        "    for name in tqdm(name_list):\r\n",
        "        try:\r\n",
        "            load_path = os.path.join(load_folder, name)\r\n",
        "            save_path = os.path.join(save_folder, name)\r\n",
        "            image = cv2.imread(load_path)\r\n",
        "            image = resize_crop(image)\r\n",
        "            batch_image = image.astype(np.float32)/127.5 - 1\r\n",
        "            batch_image = np.expand_dims(batch_image, axis=0)\r\n",
        "            output = sess.run(final_out, feed_dict={input_photo: batch_image})\r\n",
        "            output = (np.squeeze(output)+1)*127.5\r\n",
        "            output = np.clip(output, 0, 255).astype(np.uint8)\r\n",
        "            cv2.imwrite(save_path, output)\r\n",
        "        except:\r\n",
        "            print('cartoonize {} failed'.format(load_path))\r\n",
        "\r\n",
        "\r\n",
        "    \r\n",
        "\r\n",
        "if __name__ == '__main__':\r\n",
        "    model_path = 'saved_models'\r\n",
        "    load_folder = 'test_images'\r\n",
        "    save_folder = 'cartoonized_images'\r\n",
        "    if not os.path.exists(save_folder):\r\n",
        "        os.mkdir(save_folder)\r\n",
        "    cartoonize(load_folder, save_folder, model_path)\r\n",
        "    \r\n",
        "clear_output()   "
      ],
      "execution_count": null,
      "outputs": []
    },
    {
      "cell_type": "code",
      "metadata": {
        "id": "xuacR4eL0iB8"
      },
      "source": [
        "#@title ##**Collecting the Cartoonized Video file** { display-mode: \"form\" }\r\n",
        "import os\r\n",
        "import imageio\r\n",
        "\r\n",
        "%cd /content/drive/MyDrive/test/\r\n",
        "\r\n",
        "frames = []\r\n",
        "img = os.listdir('cartoonized_images/')\r\n",
        "img.sort()\r\n",
        "for i in img:\r\n",
        "  frames.append(imageio.imread(\"cartoonized_images/\"+i))\r\n",
        "frames = np.array(frames)\r\n",
        "imageio.mimsave(\"cartoonized_video.mp4\", frames, fps=30)\r\n",
        "\r\n",
        "!cp -r cartoonized_video.mp4 /content/cartoonized_video.mp4\r\n",
        "clear_output()"
      ],
      "execution_count": null,
      "outputs": []
    }
  ]
}